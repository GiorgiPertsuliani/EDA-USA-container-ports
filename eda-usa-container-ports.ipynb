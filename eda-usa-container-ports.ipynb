{
 "cells": [
  {
   "cell_type": "markdown",
   "id": "2089dde1",
   "metadata": {
    "papermill": {
     "duration": 0.007258,
     "end_time": "2022-07-09T05:33:28.743006",
     "exception": false,
     "start_time": "2022-07-09T05:33:28.735748",
     "status": "completed"
    },
    "tags": []
   },
   "source": [
    "<div style=\"width:100%;text-align: center;\"> <img align=middle src=\"https://media.istockphoto.com/photos/logistics-and-transportation-of-container-cargo-ship-and-cargo-plane-picture-id1144933955?b=1&k=20&m=1144933955&s=170667a&w=0&h=RywP-wyfunD5LyuU_bl-BhS0-zFAy09mgaGJk2zMceI=\" alt=\"Heat beating\" style=\"height:366px;margin-top:3rem;\"> </div>\n",
    "\n"
   ]
  },
  {
   "cell_type": "markdown",
   "id": "15f6c3e2",
   "metadata": {
    "papermill": {
     "duration": 0.005433,
     "end_time": "2022-07-09T05:33:28.754553",
     "exception": false,
     "start_time": "2022-07-09T05:33:28.749120",
     "status": "completed"
    },
    "tags": []
   },
   "source": [
    "# 📑About Dataset\n",
    "\n",
    "> USA container ports 2000-2017.\n",
    "> \n",
    "> US Dept. of Transportation Maritime Administration. US Waterborne Foreign Container Trade by US customs ports 2000-2017.\n",
    "> \n",
    "> Imports are in Metric Tons (Loaded containers only)"
   ]
  },
  {
   "cell_type": "markdown",
   "id": "e829369a",
   "metadata": {
    "papermill": {
     "duration": 0.005332,
     "end_time": "2022-07-09T05:33:28.765313",
     "exception": false,
     "start_time": "2022-07-09T05:33:28.759981",
     "status": "completed"
    },
    "tags": []
   },
   "source": [
    "# 🔃Loading Data"
   ]
  },
  {
   "cell_type": "code",
   "execution_count": 1,
   "id": "38f4e218",
   "metadata": {
    "execution": {
     "iopub.execute_input": "2022-07-09T05:33:28.778841Z",
     "iopub.status.busy": "2022-07-09T05:33:28.777725Z",
     "iopub.status.idle": "2022-07-09T05:33:28.801897Z",
     "shell.execute_reply": "2022-07-09T05:33:28.800672Z"
    },
    "papermill": {
     "duration": 0.034145,
     "end_time": "2022-07-09T05:33:28.804895",
     "exception": false,
     "start_time": "2022-07-09T05:33:28.770750",
     "status": "completed"
    },
    "tags": []
   },
   "outputs": [
    {
     "name": "stdout",
     "output_type": "stream",
     "text": [
      "/kaggle/input/usacontainerports20002017/container-ports-2000-2017.csv\n"
     ]
    }
   ],
   "source": [
    "# This Python 3 environment comes with many helpful analytics libraries installed\n",
    "# It is defined by the kaggle/python Docker image: https://github.com/kaggle/docker-python\n",
    "# For example, here's several helpful packages to load\n",
    "\n",
    "import numpy as np # linear algebra\n",
    "import pandas as pd # data processing, CSV file I/O (e.g. pd.read_csv)\n",
    "\n",
    "# Input data files are available in the read-only \"../input/\" directory\n",
    "# For example, running this (by clicking run or pressing Shift+Enter) will list all files under the input directory\n",
    "\n",
    "import os\n",
    "for dirname, _, filenames in os.walk('/kaggle/input'):\n",
    "    for filename in filenames:\n",
    "        print(os.path.join(dirname, filename))\n",
    "\n",
    "# You can write up to 20GB to the current directory (/kaggle/working/) that gets preserved as output when you create a version using \"Save & Run All\" \n",
    "# You can also write temporary files to /kaggle/temp/, but they won't be saved outside of the current session"
   ]
  },
  {
   "cell_type": "code",
   "execution_count": 2,
   "id": "ce60978e",
   "metadata": {
    "execution": {
     "iopub.execute_input": "2022-07-09T05:33:28.818543Z",
     "iopub.status.busy": "2022-07-09T05:33:28.818123Z",
     "iopub.status.idle": "2022-07-09T05:33:28.833792Z",
     "shell.execute_reply": "2022-07-09T05:33:28.833043Z"
    },
    "papermill": {
     "duration": 0.025046,
     "end_time": "2022-07-09T05:33:28.836019",
     "exception": false,
     "start_time": "2022-07-09T05:33:28.810973",
     "status": "completed"
    },
    "tags": []
   },
   "outputs": [],
   "source": [
    "df = pd.read_csv('/kaggle/input/usacontainerports20002017/container-ports-2000-2017.csv')"
   ]
  },
  {
   "cell_type": "code",
   "execution_count": 3,
   "id": "dee70091",
   "metadata": {
    "execution": {
     "iopub.execute_input": "2022-07-09T05:33:28.849426Z",
     "iopub.status.busy": "2022-07-09T05:33:28.848785Z",
     "iopub.status.idle": "2022-07-09T05:33:28.857029Z",
     "shell.execute_reply": "2022-07-09T05:33:28.856017Z"
    },
    "papermill": {
     "duration": 0.017113,
     "end_time": "2022-07-09T05:33:28.858879",
     "exception": false,
     "start_time": "2022-07-09T05:33:28.841766",
     "status": "completed"
    },
    "tags": []
   },
   "outputs": [
    {
     "data": {
      "text/plain": [
       "Index(['U.S. Custom Ports', 'Coast', '2000', '2001', '2002', '2003', '2004',\n",
       "       '2005', '2006', '2007', '2008', '2009', '2010', '2011', '2012', '2013',\n",
       "       '2014', '2015', '2016', '2017'],\n",
       "      dtype='object')"
      ]
     },
     "execution_count": 3,
     "metadata": {},
     "output_type": "execute_result"
    }
   ],
   "source": [
    "df.columns"
   ]
  },
  {
   "cell_type": "code",
   "execution_count": 4,
   "id": "b0ac86a4",
   "metadata": {
    "execution": {
     "iopub.execute_input": "2022-07-09T05:33:28.872145Z",
     "iopub.status.busy": "2022-07-09T05:33:28.871639Z",
     "iopub.status.idle": "2022-07-09T05:33:28.881561Z",
     "shell.execute_reply": "2022-07-09T05:33:28.880556Z"
    },
    "papermill": {
     "duration": 0.018975,
     "end_time": "2022-07-09T05:33:28.883582",
     "exception": false,
     "start_time": "2022-07-09T05:33:28.864607",
     "status": "completed"
    },
    "tags": []
   },
   "outputs": [],
   "source": [
    "df.rename(columns = {'U.S. Custom Ports': 'US_Custom_Ports'}, inplace = True)"
   ]
  },
  {
   "cell_type": "code",
   "execution_count": 5,
   "id": "9cc39c7c",
   "metadata": {
    "execution": {
     "iopub.execute_input": "2022-07-09T05:33:28.897163Z",
     "iopub.status.busy": "2022-07-09T05:33:28.896556Z",
     "iopub.status.idle": "2022-07-09T05:33:28.902127Z",
     "shell.execute_reply": "2022-07-09T05:33:28.901373Z"
    },
    "papermill": {
     "duration": 0.014378,
     "end_time": "2022-07-09T05:33:28.903878",
     "exception": false,
     "start_time": "2022-07-09T05:33:28.889500",
     "status": "completed"
    },
    "tags": []
   },
   "outputs": [
    {
     "data": {
      "text/plain": [
       "Index(['US_Custom_Ports', 'Coast', '2000', '2001', '2002', '2003', '2004',\n",
       "       '2005', '2006', '2007', '2008', '2009', '2010', '2011', '2012', '2013',\n",
       "       '2014', '2015', '2016', '2017'],\n",
       "      dtype='object')"
      ]
     },
     "execution_count": 5,
     "metadata": {},
     "output_type": "execute_result"
    }
   ],
   "source": [
    "df.columns"
   ]
  },
  {
   "cell_type": "code",
   "execution_count": 6,
   "id": "c877958c",
   "metadata": {
    "execution": {
     "iopub.execute_input": "2022-07-09T05:33:28.917240Z",
     "iopub.status.busy": "2022-07-09T05:33:28.916667Z",
     "iopub.status.idle": "2022-07-09T05:33:28.939625Z",
     "shell.execute_reply": "2022-07-09T05:33:28.938079Z"
    },
    "papermill": {
     "duration": 0.032455,
     "end_time": "2022-07-09T05:33:28.942175",
     "exception": false,
     "start_time": "2022-07-09T05:33:28.909720",
     "status": "completed"
    },
    "tags": []
   },
   "outputs": [
    {
     "name": "stdout",
     "output_type": "stream",
     "text": [
      "<class 'pandas.core.frame.DataFrame'>\n",
      "RangeIndex: 63 entries, 0 to 62\n",
      "Data columns (total 20 columns):\n",
      " #   Column           Non-Null Count  Dtype \n",
      "---  ------           --------------  ----- \n",
      " 0   US_Custom_Ports  63 non-null     object\n",
      " 1   Coast            62 non-null     object\n",
      " 2   2000             63 non-null     object\n",
      " 3   2001             63 non-null     object\n",
      " 4   2002             63 non-null     object\n",
      " 5   2003             63 non-null     object\n",
      " 6   2004             63 non-null     object\n",
      " 7   2005             63 non-null     object\n",
      " 8   2006             63 non-null     object\n",
      " 9   2007             63 non-null     object\n",
      " 10  2008             63 non-null     object\n",
      " 11  2009             63 non-null     object\n",
      " 12  2010             63 non-null     object\n",
      " 13  2011             63 non-null     object\n",
      " 14  2012             63 non-null     object\n",
      " 15  2013             63 non-null     object\n",
      " 16  2014             63 non-null     object\n",
      " 17  2015             63 non-null     object\n",
      " 18  2016             63 non-null     object\n",
      " 19  2017             63 non-null     object\n",
      "dtypes: object(20)\n",
      "memory usage: 10.0+ KB\n"
     ]
    }
   ],
   "source": [
    "df.info()"
   ]
  },
  {
   "cell_type": "code",
   "execution_count": 7,
   "id": "c789e37c",
   "metadata": {
    "execution": {
     "iopub.execute_input": "2022-07-09T05:33:28.957020Z",
     "iopub.status.busy": "2022-07-09T05:33:28.956668Z",
     "iopub.status.idle": "2022-07-09T05:33:29.009216Z",
     "shell.execute_reply": "2022-07-09T05:33:29.008288Z"
    },
    "papermill": {
     "duration": 0.062813,
     "end_time": "2022-07-09T05:33:29.011551",
     "exception": false,
     "start_time": "2022-07-09T05:33:28.948738",
     "status": "completed"
    },
    "tags": []
   },
   "outputs": [
    {
     "data": {
      "text/html": [
       "<div>\n",
       "<style scoped>\n",
       "    .dataframe tbody tr th:only-of-type {\n",
       "        vertical-align: middle;\n",
       "    }\n",
       "\n",
       "    .dataframe tbody tr th {\n",
       "        vertical-align: top;\n",
       "    }\n",
       "\n",
       "    .dataframe thead th {\n",
       "        text-align: right;\n",
       "    }\n",
       "</style>\n",
       "<table border=\"1\" class=\"dataframe\">\n",
       "  <thead>\n",
       "    <tr style=\"text-align: right;\">\n",
       "      <th></th>\n",
       "      <th>US_Custom_Ports</th>\n",
       "      <th>Coast</th>\n",
       "      <th>2000</th>\n",
       "      <th>2001</th>\n",
       "      <th>2002</th>\n",
       "      <th>2003</th>\n",
       "      <th>2004</th>\n",
       "      <th>2005</th>\n",
       "      <th>2006</th>\n",
       "      <th>2007</th>\n",
       "      <th>2008</th>\n",
       "      <th>2009</th>\n",
       "      <th>2010</th>\n",
       "      <th>2011</th>\n",
       "      <th>2012</th>\n",
       "      <th>2013</th>\n",
       "      <th>2014</th>\n",
       "      <th>2015</th>\n",
       "      <th>2016</th>\n",
       "      <th>2017</th>\n",
       "    </tr>\n",
       "  </thead>\n",
       "  <tbody>\n",
       "    <tr>\n",
       "      <th>count</th>\n",
       "      <td>63</td>\n",
       "      <td>62</td>\n",
       "      <td>63</td>\n",
       "      <td>63</td>\n",
       "      <td>63</td>\n",
       "      <td>63</td>\n",
       "      <td>63</td>\n",
       "      <td>63</td>\n",
       "      <td>63</td>\n",
       "      <td>63</td>\n",
       "      <td>63</td>\n",
       "      <td>63</td>\n",
       "      <td>63</td>\n",
       "      <td>63</td>\n",
       "      <td>63</td>\n",
       "      <td>63</td>\n",
       "      <td>63</td>\n",
       "      <td>63</td>\n",
       "      <td>63</td>\n",
       "      <td>63</td>\n",
       "    </tr>\n",
       "    <tr>\n",
       "      <th>unique</th>\n",
       "      <td>63</td>\n",
       "      <td>6</td>\n",
       "      <td>49</td>\n",
       "      <td>51</td>\n",
       "      <td>53</td>\n",
       "      <td>56</td>\n",
       "      <td>57</td>\n",
       "      <td>55</td>\n",
       "      <td>58</td>\n",
       "      <td>55</td>\n",
       "      <td>57</td>\n",
       "      <td>56</td>\n",
       "      <td>59</td>\n",
       "      <td>59</td>\n",
       "      <td>59</td>\n",
       "      <td>61</td>\n",
       "      <td>60</td>\n",
       "      <td>52</td>\n",
       "      <td>54</td>\n",
       "      <td>55</td>\n",
       "    </tr>\n",
       "    <tr>\n",
       "      <th>top</th>\n",
       "      <td>Aberdeen, WA</td>\n",
       "      <td>A</td>\n",
       "      <td>0</td>\n",
       "      <td>0</td>\n",
       "      <td>0</td>\n",
       "      <td>0</td>\n",
       "      <td>0</td>\n",
       "      <td>0</td>\n",
       "      <td>0</td>\n",
       "      <td>0</td>\n",
       "      <td>0</td>\n",
       "      <td>0</td>\n",
       "      <td>0</td>\n",
       "      <td>0</td>\n",
       "      <td>0</td>\n",
       "      <td>0</td>\n",
       "      <td>0</td>\n",
       "      <td>0</td>\n",
       "      <td>0</td>\n",
       "      <td>0</td>\n",
       "    </tr>\n",
       "    <tr>\n",
       "      <th>freq</th>\n",
       "      <td>1</td>\n",
       "      <td>25</td>\n",
       "      <td>14</td>\n",
       "      <td>13</td>\n",
       "      <td>11</td>\n",
       "      <td>8</td>\n",
       "      <td>7</td>\n",
       "      <td>9</td>\n",
       "      <td>6</td>\n",
       "      <td>8</td>\n",
       "      <td>7</td>\n",
       "      <td>8</td>\n",
       "      <td>5</td>\n",
       "      <td>5</td>\n",
       "      <td>5</td>\n",
       "      <td>3</td>\n",
       "      <td>4</td>\n",
       "      <td>12</td>\n",
       "      <td>10</td>\n",
       "      <td>9</td>\n",
       "    </tr>\n",
       "  </tbody>\n",
       "</table>\n",
       "</div>"
      ],
      "text/plain": [
       "       US_Custom_Ports Coast 2000 2001 2002 2003 2004 2005 2006 2007 2008  \\\n",
       "count               63    62   63   63   63   63   63   63   63   63   63   \n",
       "unique              63     6   49   51   53   56   57   55   58   55   57   \n",
       "top       Aberdeen, WA     A    0    0    0    0    0    0    0    0    0   \n",
       "freq                 1    25   14   13   11    8    7    9    6    8    7   \n",
       "\n",
       "       2009 2010 2011 2012 2013 2014 2015 2016 2017  \n",
       "count    63   63   63   63   63   63   63   63   63  \n",
       "unique   56   59   59   59   61   60   52   54   55  \n",
       "top       0    0    0    0    0    0    0    0    0  \n",
       "freq      8    5    5    5    3    4   12   10    9  "
      ]
     },
     "execution_count": 7,
     "metadata": {},
     "output_type": "execute_result"
    }
   ],
   "source": [
    "df.describe()"
   ]
  },
  {
   "cell_type": "code",
   "execution_count": 8,
   "id": "9b6da9ca",
   "metadata": {
    "execution": {
     "iopub.execute_input": "2022-07-09T05:33:29.029014Z",
     "iopub.status.busy": "2022-07-09T05:33:29.028618Z",
     "iopub.status.idle": "2022-07-09T05:33:29.050973Z",
     "shell.execute_reply": "2022-07-09T05:33:29.049882Z"
    },
    "papermill": {
     "duration": 0.034959,
     "end_time": "2022-07-09T05:33:29.053164",
     "exception": false,
     "start_time": "2022-07-09T05:33:29.018205",
     "status": "completed"
    },
    "tags": []
   },
   "outputs": [
    {
     "data": {
      "text/html": [
       "<div>\n",
       "<style scoped>\n",
       "    .dataframe tbody tr th:only-of-type {\n",
       "        vertical-align: middle;\n",
       "    }\n",
       "\n",
       "    .dataframe tbody tr th {\n",
       "        vertical-align: top;\n",
       "    }\n",
       "\n",
       "    .dataframe thead th {\n",
       "        text-align: right;\n",
       "    }\n",
       "</style>\n",
       "<table border=\"1\" class=\"dataframe\">\n",
       "  <thead>\n",
       "    <tr style=\"text-align: right;\">\n",
       "      <th></th>\n",
       "      <th>US_Custom_Ports</th>\n",
       "      <th>Coast</th>\n",
       "      <th>2000</th>\n",
       "      <th>2001</th>\n",
       "      <th>2002</th>\n",
       "      <th>2003</th>\n",
       "      <th>2004</th>\n",
       "      <th>2005</th>\n",
       "      <th>2006</th>\n",
       "      <th>2007</th>\n",
       "      <th>2008</th>\n",
       "      <th>2009</th>\n",
       "      <th>2010</th>\n",
       "      <th>2011</th>\n",
       "      <th>2012</th>\n",
       "      <th>2013</th>\n",
       "      <th>2014</th>\n",
       "      <th>2015</th>\n",
       "      <th>2016</th>\n",
       "      <th>2017</th>\n",
       "    </tr>\n",
       "  </thead>\n",
       "  <tbody>\n",
       "    <tr>\n",
       "      <th>0</th>\n",
       "      <td>Aberdeen, WA</td>\n",
       "      <td>P</td>\n",
       "      <td>0</td>\n",
       "      <td>0</td>\n",
       "      <td>0</td>\n",
       "      <td>0</td>\n",
       "      <td>0</td>\n",
       "      <td>8</td>\n",
       "      <td>0</td>\n",
       "      <td>0</td>\n",
       "      <td>0</td>\n",
       "      <td>29</td>\n",
       "      <td>0</td>\n",
       "      <td>16</td>\n",
       "      <td>414</td>\n",
       "      <td>645</td>\n",
       "      <td>855</td>\n",
       "      <td>43</td>\n",
       "      <td>505</td>\n",
       "      <td>383</td>\n",
       "    </tr>\n",
       "    <tr>\n",
       "      <th>1</th>\n",
       "      <td>Anacortes, WA</td>\n",
       "      <td>P</td>\n",
       "      <td>0</td>\n",
       "      <td>0</td>\n",
       "      <td>0</td>\n",
       "      <td>0</td>\n",
       "      <td>0</td>\n",
       "      <td>0</td>\n",
       "      <td>0</td>\n",
       "      <td>0</td>\n",
       "      <td>0</td>\n",
       "      <td>0</td>\n",
       "      <td>0</td>\n",
       "      <td>0</td>\n",
       "      <td>0</td>\n",
       "      <td>11</td>\n",
       "      <td>0</td>\n",
       "      <td>0</td>\n",
       "      <td>0</td>\n",
       "      <td>0</td>\n",
       "    </tr>\n",
       "    <tr>\n",
       "      <th>2</th>\n",
       "      <td>Anchorage, AK</td>\n",
       "      <td>AK</td>\n",
       "      <td>0</td>\n",
       "      <td>0</td>\n",
       "      <td>0</td>\n",
       "      <td>3,135</td>\n",
       "      <td>28,495</td>\n",
       "      <td>4,949</td>\n",
       "      <td>1,185</td>\n",
       "      <td>824</td>\n",
       "      <td>663</td>\n",
       "      <td>1,208</td>\n",
       "      <td>540</td>\n",
       "      <td>2,302</td>\n",
       "      <td>5,471</td>\n",
       "      <td>13,274</td>\n",
       "      <td>6,792</td>\n",
       "      <td>11,646</td>\n",
       "      <td>15,823</td>\n",
       "      <td>18,779</td>\n",
       "    </tr>\n",
       "    <tr>\n",
       "      <th>3</th>\n",
       "      <td>Baltimore, MD</td>\n",
       "      <td>A</td>\n",
       "      <td>1,899,689</td>\n",
       "      <td>1,942,158</td>\n",
       "      <td>2,189,129</td>\n",
       "      <td>2,077,996</td>\n",
       "      <td>2,641,888</td>\n",
       "      <td>2,640,988</td>\n",
       "      <td>2,824,549</td>\n",
       "      <td>2,756,330</td>\n",
       "      <td>2,855,096</td>\n",
       "      <td>2,380,630</td>\n",
       "      <td>2,929,029</td>\n",
       "      <td>3,108,746</td>\n",
       "      <td>3,243,542</td>\n",
       "      <td>3,438,606</td>\n",
       "      <td>3,691,480</td>\n",
       "      <td>3,977,777</td>\n",
       "      <td>4,264,068</td>\n",
       "      <td>4,871,362</td>\n",
       "    </tr>\n",
       "    <tr>\n",
       "      <th>4</th>\n",
       "      <td>Baton Rouge, LA</td>\n",
       "      <td>G</td>\n",
       "      <td>8</td>\n",
       "      <td>0</td>\n",
       "      <td>959</td>\n",
       "      <td>21</td>\n",
       "      <td>3</td>\n",
       "      <td>149</td>\n",
       "      <td>1,562</td>\n",
       "      <td>0</td>\n",
       "      <td>0</td>\n",
       "      <td>1,164</td>\n",
       "      <td>6,456</td>\n",
       "      <td>2,587</td>\n",
       "      <td>12</td>\n",
       "      <td>1,987</td>\n",
       "      <td>72</td>\n",
       "      <td>0</td>\n",
       "      <td>27</td>\n",
       "      <td>0</td>\n",
       "    </tr>\n",
       "  </tbody>\n",
       "</table>\n",
       "</div>"
      ],
      "text/plain": [
       "   US_Custom_Ports Coast       2000       2001       2002       2003  \\\n",
       "0     Aberdeen, WA     P          0          0          0          0   \n",
       "1    Anacortes, WA     P          0          0          0          0   \n",
       "2    Anchorage, AK    AK          0          0          0      3,135   \n",
       "3    Baltimore, MD     A  1,899,689  1,942,158  2,189,129  2,077,996   \n",
       "4  Baton Rouge, LA     G          8          0        959         21   \n",
       "\n",
       "        2004       2005       2006       2007       2008       2009  \\\n",
       "0          0          8          0          0          0         29   \n",
       "1          0          0          0          0          0          0   \n",
       "2     28,495      4,949      1,185        824        663      1,208   \n",
       "3  2,641,888  2,640,988  2,824,549  2,756,330  2,855,096  2,380,630   \n",
       "4          3        149      1,562          0          0      1,164   \n",
       "\n",
       "        2010       2011       2012       2013       2014       2015  \\\n",
       "0          0         16        414        645        855         43   \n",
       "1          0          0          0         11          0          0   \n",
       "2        540      2,302      5,471     13,274      6,792     11,646   \n",
       "3  2,929,029  3,108,746  3,243,542  3,438,606  3,691,480  3,977,777   \n",
       "4      6,456      2,587         12      1,987         72          0   \n",
       "\n",
       "        2016       2017  \n",
       "0        505        383  \n",
       "1          0          0  \n",
       "2     15,823     18,779  \n",
       "3  4,264,068  4,871,362  \n",
       "4         27          0  "
      ]
     },
     "execution_count": 8,
     "metadata": {},
     "output_type": "execute_result"
    }
   ],
   "source": [
    "df.head()"
   ]
  },
  {
   "cell_type": "markdown",
   "id": "1d8995cf",
   "metadata": {
    "papermill": {
     "duration": 0.007336,
     "end_time": "2022-07-09T05:33:29.067417",
     "exception": false,
     "start_time": "2022-07-09T05:33:29.060081",
     "status": "completed"
    },
    "tags": []
   },
   "source": [
    "# 🥽Let's see what all we can explore in this dataset\n"
   ]
  },
  {
   "cell_type": "markdown",
   "id": "67aaf7a9",
   "metadata": {
    "papermill": {
     "duration": 0.006514,
     "end_time": "2022-07-09T05:33:29.080821",
     "exception": false,
     "start_time": "2022-07-09T05:33:29.074307",
     "status": "completed"
    },
    "tags": []
   },
   "source": [
    "> 1. Find the busiest port in United States - per year and overall\n",
    "> 2. Find the port with least containers traffic.\n",
    "> 3. Which coast is most popular.\n",
    "> 4. Time series chart to depict increasing/decreasing traffic on certain ports over years.\n"
   ]
  },
  {
   "cell_type": "code",
   "execution_count": 9,
   "id": "a389d353",
   "metadata": {
    "execution": {
     "iopub.execute_input": "2022-07-09T05:33:29.096513Z",
     "iopub.status.busy": "2022-07-09T05:33:29.095609Z",
     "iopub.status.idle": "2022-07-09T05:33:29.099982Z",
     "shell.execute_reply": "2022-07-09T05:33:29.099239Z"
    },
    "papermill": {
     "duration": 0.014238,
     "end_time": "2022-07-09T05:33:29.101920",
     "exception": false,
     "start_time": "2022-07-09T05:33:29.087682",
     "status": "completed"
    },
    "tags": []
   },
   "outputs": [],
   "source": [
    "#Busiest port in 2000\n",
    "\n",
    "#Max_val = df['2000'].max()\n",
    "#busy_2000 = df.loc[df['2000'] == Max_val, 'US_Custom_Ports'].iloc[0]\n",
    "#print('Busiest port of USA in 2000 was ',busy_2000)"
   ]
  },
  {
   "cell_type": "code",
   "execution_count": 10,
   "id": "49947c3a",
   "metadata": {
    "execution": {
     "iopub.execute_input": "2022-07-09T05:33:29.117161Z",
     "iopub.status.busy": "2022-07-09T05:33:29.116807Z",
     "iopub.status.idle": "2022-07-09T05:33:29.128544Z",
     "shell.execute_reply": "2022-07-09T05:33:29.127078Z"
    },
    "papermill": {
     "duration": 0.022138,
     "end_time": "2022-07-09T05:33:29.130864",
     "exception": false,
     "start_time": "2022-07-09T05:33:29.108726",
     "status": "completed"
    },
    "tags": []
   },
   "outputs": [
    {
     "name": "stderr",
     "output_type": "stream",
     "text": [
      "/opt/conda/lib/python3.7/site-packages/ipykernel_launcher.py:2: FutureWarning: Dropping of nuisance columns in DataFrame reductions (with 'numeric_only=None') is deprecated; in a future version this will raise TypeError.  Select only valid columns before calling the reduction.\n",
      "  \n"
     ]
    },
    {
     "data": {
      "text/plain": [
       "US_Custom_Ports    Wilmington, NC\n",
       "2000                      967,306\n",
       "2001                      964,634\n",
       "2002                       98,599\n",
       "2003                       95,584\n",
       "2004                      906,018\n",
       "2005                      826,931\n",
       "2006                      890,403\n",
       "2007                      962,676\n",
       "2008                      852,571\n",
       "2009                      961,631\n",
       "2010                        9,324\n",
       "2011                          980\n",
       "2012                      968,725\n",
       "2013                          966\n",
       "2014                        9,797\n",
       "2015                      915,182\n",
       "2016                      957,981\n",
       "2017                       96,817\n",
       "dtype: object"
      ]
     },
     "execution_count": 10,
     "metadata": {},
     "output_type": "execute_result"
    }
   ],
   "source": [
    "#get max value for each column\n",
    "df.max()  "
   ]
  },
  {
   "cell_type": "code",
   "execution_count": 11,
   "id": "80ce3679",
   "metadata": {
    "execution": {
     "iopub.execute_input": "2022-07-09T05:33:29.145736Z",
     "iopub.status.busy": "2022-07-09T05:33:29.145423Z",
     "iopub.status.idle": "2022-07-09T05:33:29.161078Z",
     "shell.execute_reply": "2022-07-09T05:33:29.160088Z"
    },
    "papermill": {
     "duration": 0.025726,
     "end_time": "2022-07-09T05:33:29.163344",
     "exception": false,
     "start_time": "2022-07-09T05:33:29.137618",
     "status": "completed"
    },
    "tags": []
   },
   "outputs": [],
   "source": [
    "#Create new dataframe for busy ports and year\n",
    "Year = []\n",
    "Busy_Port  = []\n",
    "\n",
    "\n",
    "dict = {2000:'2000', 2001:'2001', 2002: '2002', 2003: '2003', 2004:'2004', 2005:'2005', 2006:'2006', 2007:'2007', \n",
    "        2008:'2008', 2009:'2009',  2010:'2010',  2011:'2011', 2012:'2012', 2013:'2013', 2014:'2014', 2015:'2015', \n",
    "        2016:'2016', 2017:'2017'}\n",
    "\n",
    "for i in range(2000, 2018):\n",
    "    Max_val = df[dict[i]].max()\n",
    "    busy = df.loc[df[dict[i]] == Max_val, 'US_Custom_Ports'].iloc[0]\n",
    "    Year.append(i)\n",
    "    Busy_Port.append(busy)\n",
    "     "
   ]
  },
  {
   "cell_type": "code",
   "execution_count": 12,
   "id": "73589721",
   "metadata": {
    "execution": {
     "iopub.execute_input": "2022-07-09T05:33:29.178402Z",
     "iopub.status.busy": "2022-07-09T05:33:29.178059Z",
     "iopub.status.idle": "2022-07-09T05:33:29.192656Z",
     "shell.execute_reply": "2022-07-09T05:33:29.191438Z"
    },
    "papermill": {
     "duration": 0.025185,
     "end_time": "2022-07-09T05:33:29.195298",
     "exception": false,
     "start_time": "2022-07-09T05:33:29.170113",
     "status": "completed"
    },
    "tags": []
   },
   "outputs": [
    {
     "name": "stdout",
     "output_type": "stream",
     "text": [
      "Busiest port of USA in 2000 was New Orleans, LA\n",
      "Busiest port of USA in 2001 was Wilmington, DE\n",
      "Busiest port of USA in 2002 was San Francisco, CA\n",
      "Busiest port of USA in 2003 was Port Hueneme, CA\n",
      "Busiest port of USA in 2004 was Gulfport, MS\n",
      "Busiest port of USA in 2005 was Gulfport, MS\n",
      "Busiest port of USA in 2006 was New Orleans, LA\n",
      "Busiest port of USA in 2007 was New Orleans, LA\n",
      "Busiest port of USA in 2008 was Gulfport, MS\n",
      "Busiest port of USA in 2009 was New Orleans, LA\n",
      "Busiest port of USA in 2010 was Everett, WA\n",
      "Busiest port of USA in 2011 was Newport News, VA\n",
      "Busiest port of USA in 2012 was New Orleans, LA\n",
      "Busiest port of USA in 2013 was Salem, NJ\n",
      "Busiest port of USA in 2014 was Vancouver, WA\n",
      "Busiest port of USA in 2015 was Boston, MA\n",
      "Busiest port of USA in 2016 was Boston, MA\n",
      "Busiest port of USA in 2017 was Portland, ME\n"
     ]
    }
   ],
   "source": [
    "#Busiest Port each Year \n",
    "\n",
    "for i in range(2000, 2018):\n",
    "    Max_val = df[dict[i]].max()\n",
    "    busy = df.loc[df[dict[i]] == Max_val, 'US_Custom_Ports'].iloc[0]\n",
    "    print('Busiest port of USA in {} was '.format(i) + busy)"
   ]
  },
  {
   "cell_type": "markdown",
   "id": "03d0bfac",
   "metadata": {
    "papermill": {
     "duration": 0.006376,
     "end_time": "2022-07-09T05:33:29.208372",
     "exception": false,
     "start_time": "2022-07-09T05:33:29.201996",
     "status": "completed"
    },
    "tags": []
   },
   "source": [
    "**We can say that New Orleans, LA port was the busiest port for most time followed by Gulfport, MS.**"
   ]
  },
  {
   "cell_type": "code",
   "execution_count": 13,
   "id": "c264c178",
   "metadata": {
    "execution": {
     "iopub.execute_input": "2022-07-09T05:33:29.223309Z",
     "iopub.status.busy": "2022-07-09T05:33:29.222726Z",
     "iopub.status.idle": "2022-07-09T05:33:29.230750Z",
     "shell.execute_reply": "2022-07-09T05:33:29.229773Z"
    },
    "papermill": {
     "duration": 0.017687,
     "end_time": "2022-07-09T05:33:29.232659",
     "exception": false,
     "start_time": "2022-07-09T05:33:29.214972",
     "status": "completed"
    },
    "tags": []
   },
   "outputs": [
    {
     "data": {
      "text/plain": [
       "A     25\n",
       "G     16\n",
       "P     15\n",
       "PR     3\n",
       "AK     2\n",
       "HI     1\n",
       "Name: Coast, dtype: int64"
      ]
     },
     "execution_count": 13,
     "metadata": {},
     "output_type": "execute_result"
    }
   ],
   "source": [
    "#Find most busiest coast\n",
    "df['Coast'].value_counts().head(10)"
   ]
  },
  {
   "cell_type": "markdown",
   "id": "07f14300",
   "metadata": {
    "papermill": {
     "duration": 0.006432,
     "end_time": "2022-07-09T05:33:29.246106",
     "exception": false,
     "start_time": "2022-07-09T05:33:29.239674",
     "status": "completed"
    },
    "tags": []
   },
   "source": [
    "**Coast A is the most busiest port followed by Port G.**"
   ]
  },
  {
   "cell_type": "code",
   "execution_count": 14,
   "id": "2bcd608a",
   "metadata": {
    "execution": {
     "iopub.execute_input": "2022-07-09T05:33:29.261098Z",
     "iopub.status.busy": "2022-07-09T05:33:29.260521Z",
     "iopub.status.idle": "2022-07-09T05:33:29.271923Z",
     "shell.execute_reply": "2022-07-09T05:33:29.270628Z"
    },
    "papermill": {
     "duration": 0.021371,
     "end_time": "2022-07-09T05:33:29.274017",
     "exception": false,
     "start_time": "2022-07-09T05:33:29.252646",
     "status": "completed"
    },
    "tags": []
   },
   "outputs": [
    {
     "name": "stderr",
     "output_type": "stream",
     "text": [
      "/opt/conda/lib/python3.7/site-packages/ipykernel_launcher.py:1: FutureWarning: Dropping of nuisance columns in DataFrame reductions (with 'numeric_only=None') is deprecated; in a future version this will raise TypeError.  Select only valid columns before calling the reduction.\n",
      "  \"\"\"Entry point for launching an IPython kernel.\n"
     ]
    },
    {
     "data": {
      "text/plain": [
       "US_Custom_Ports    Aberdeen, WA\n",
       "2000                          0\n",
       "2001                          0\n",
       "2002                          0\n",
       "2003                          0\n",
       "2004                          0\n",
       "2005                          0\n",
       "2006                          0\n",
       "2007                          0\n",
       "2008                          0\n",
       "2009                          0\n",
       "2010                          0\n",
       "2011                          0\n",
       "2012                          0\n",
       "2013                          0\n",
       "2014                          0\n",
       "2015                          0\n",
       "2016                          0\n",
       "2017                          0\n",
       "dtype: object"
      ]
     },
     "execution_count": 14,
     "metadata": {},
     "output_type": "execute_result"
    }
   ],
   "source": [
    "df.min()  #min value for each column"
   ]
  },
  {
   "cell_type": "code",
   "execution_count": 15,
   "id": "8118f722",
   "metadata": {
    "execution": {
     "iopub.execute_input": "2022-07-09T05:33:29.289929Z",
     "iopub.status.busy": "2022-07-09T05:33:29.288968Z",
     "iopub.status.idle": "2022-07-09T05:33:29.311203Z",
     "shell.execute_reply": "2022-07-09T05:33:29.310305Z"
    },
    "papermill": {
     "duration": 0.032214,
     "end_time": "2022-07-09T05:33:29.313155",
     "exception": false,
     "start_time": "2022-07-09T05:33:29.280941",
     "status": "completed"
    },
    "tags": []
   },
   "outputs": [
    {
     "name": "stdout",
     "output_type": "stream",
     "text": [
      "Port with least traffic in 2000 was Aberdeen, WA\n",
      "Port with least traffic in 2001 was Aberdeen, WA\n",
      "Port with least traffic in 2002 was Aberdeen, WA\n",
      "Port with least traffic in 2003 was Aberdeen, WA\n",
      "Port with least traffic in 2004 was Aberdeen, WA\n",
      "Port with least traffic in 2005 was Anacortes, WA\n",
      "Port with least traffic in 2006 was Aberdeen, WA\n",
      "Port with least traffic in 2007 was Aberdeen, WA\n",
      "Port with least traffic in 2008 was Aberdeen, WA\n",
      "Port with least traffic in 2009 was Anacortes, WA\n",
      "Port with least traffic in 2010 was Aberdeen, WA\n",
      "Port with least traffic in 2011 was Anacortes, WA\n",
      "Port with least traffic in 2012 was Anacortes, WA\n",
      "Port with least traffic in 2013 was Beaufort-Morehead City, NC\n",
      "Port with least traffic in 2014 was Anacortes, WA\n",
      "Port with least traffic in 2015 was Anacortes, WA\n",
      "Port with least traffic in 2016 was Anacortes, WA\n",
      "Port with least traffic in 2017 was Anacortes, WA\n"
     ]
    }
   ],
   "source": [
    "#Port which had zero or no Container traffic each year also, add it to new dataframe\n",
    "Vaccant_Port = []\n",
    "\n",
    "for i in range(2000, 2018):\n",
    "    Min_val = df[dict[i]].min()\n",
    "    Not_busy = df.loc[df[dict[i]] == Min_val, 'US_Custom_Ports'].iloc[0]\n",
    "    Vaccant_Port.append(Not_busy)\n",
    "    print('Port with least traffic in {} was '.format(i) + Not_busy)\n",
    "    \n",
    "df1 = pd.DataFrame({'Busy_Port':Busy_Port,'Vaccant_Port':Vaccant_Port, 'Year':Year})"
   ]
  },
  {
   "cell_type": "code",
   "execution_count": 16,
   "id": "bbe01fa0",
   "metadata": {
    "execution": {
     "iopub.execute_input": "2022-07-09T05:33:29.328835Z",
     "iopub.status.busy": "2022-07-09T05:33:29.328508Z",
     "iopub.status.idle": "2022-07-09T05:33:29.338383Z",
     "shell.execute_reply": "2022-07-09T05:33:29.337105Z"
    },
    "papermill": {
     "duration": 0.020265,
     "end_time": "2022-07-09T05:33:29.340474",
     "exception": false,
     "start_time": "2022-07-09T05:33:29.320209",
     "status": "completed"
    },
    "tags": []
   },
   "outputs": [
    {
     "data": {
      "text/html": [
       "<div>\n",
       "<style scoped>\n",
       "    .dataframe tbody tr th:only-of-type {\n",
       "        vertical-align: middle;\n",
       "    }\n",
       "\n",
       "    .dataframe tbody tr th {\n",
       "        vertical-align: top;\n",
       "    }\n",
       "\n",
       "    .dataframe thead th {\n",
       "        text-align: right;\n",
       "    }\n",
       "</style>\n",
       "<table border=\"1\" class=\"dataframe\">\n",
       "  <thead>\n",
       "    <tr style=\"text-align: right;\">\n",
       "      <th></th>\n",
       "      <th>Busy_Port</th>\n",
       "      <th>Vaccant_Port</th>\n",
       "      <th>Year</th>\n",
       "    </tr>\n",
       "  </thead>\n",
       "  <tbody>\n",
       "    <tr>\n",
       "      <th>0</th>\n",
       "      <td>New Orleans, LA</td>\n",
       "      <td>Aberdeen, WA</td>\n",
       "      <td>2000</td>\n",
       "    </tr>\n",
       "    <tr>\n",
       "      <th>1</th>\n",
       "      <td>Wilmington, DE</td>\n",
       "      <td>Aberdeen, WA</td>\n",
       "      <td>2001</td>\n",
       "    </tr>\n",
       "    <tr>\n",
       "      <th>2</th>\n",
       "      <td>San Francisco, CA</td>\n",
       "      <td>Aberdeen, WA</td>\n",
       "      <td>2002</td>\n",
       "    </tr>\n",
       "    <tr>\n",
       "      <th>3</th>\n",
       "      <td>Port Hueneme, CA</td>\n",
       "      <td>Aberdeen, WA</td>\n",
       "      <td>2003</td>\n",
       "    </tr>\n",
       "    <tr>\n",
       "      <th>4</th>\n",
       "      <td>Gulfport, MS</td>\n",
       "      <td>Aberdeen, WA</td>\n",
       "      <td>2004</td>\n",
       "    </tr>\n",
       "  </tbody>\n",
       "</table>\n",
       "</div>"
      ],
      "text/plain": [
       "           Busy_Port  Vaccant_Port  Year\n",
       "0    New Orleans, LA  Aberdeen, WA  2000\n",
       "1     Wilmington, DE  Aberdeen, WA  2001\n",
       "2  San Francisco, CA  Aberdeen, WA  2002\n",
       "3   Port Hueneme, CA  Aberdeen, WA  2003\n",
       "4       Gulfport, MS  Aberdeen, WA  2004"
      ]
     },
     "execution_count": 16,
     "metadata": {},
     "output_type": "execute_result"
    }
   ],
   "source": [
    "df1.head()"
   ]
  },
  {
   "cell_type": "markdown",
   "id": "cd4daf4d",
   "metadata": {
    "papermill": {
     "duration": 0.007136,
     "end_time": "2022-07-09T05:33:29.355371",
     "exception": false,
     "start_time": "2022-07-09T05:33:29.348235",
     "status": "completed"
    },
    "tags": []
   },
   "source": [
    "**From above analysis we can say that port Aberdeen, WA (9 times) was the least used port from year 2000 to 2007 followed by Anacortes, WA (8 times).**"
   ]
  },
  {
   "cell_type": "markdown",
   "id": "d2a49310",
   "metadata": {
    "papermill": {
     "duration": 0.007492,
     "end_time": "2022-07-09T05:33:29.370609",
     "exception": false,
     "start_time": "2022-07-09T05:33:29.363117",
     "status": "completed"
    },
    "tags": []
   },
   "source": [
    "# 👀Visual Data Analysis"
   ]
  },
  {
   "cell_type": "markdown",
   "id": "ff3c6b4b",
   "metadata": {
    "papermill": {
     "duration": 0.007177,
     "end_time": "2022-07-09T05:33:29.384998",
     "exception": false,
     "start_time": "2022-07-09T05:33:29.377821",
     "status": "completed"
    },
    "tags": []
   },
   "source": [
    "> **Along with the data provided, we'll be using the new dataframe created using the data we achieved for busiest and vaccant ports over the years.**"
   ]
  },
  {
   "cell_type": "code",
   "execution_count": 17,
   "id": "77e47c76",
   "metadata": {
    "execution": {
     "iopub.execute_input": "2022-07-09T05:33:29.401415Z",
     "iopub.status.busy": "2022-07-09T05:33:29.400982Z",
     "iopub.status.idle": "2022-07-09T05:33:30.383489Z",
     "shell.execute_reply": "2022-07-09T05:33:30.382428Z"
    },
    "papermill": {
     "duration": 0.993774,
     "end_time": "2022-07-09T05:33:30.386202",
     "exception": false,
     "start_time": "2022-07-09T05:33:29.392428",
     "status": "completed"
    },
    "tags": []
   },
   "outputs": [],
   "source": [
    "import seaborn as sns\n",
    "import matplotlib.pyplot as plt"
   ]
  },
  {
   "cell_type": "code",
   "execution_count": 18,
   "id": "8bea334f",
   "metadata": {
    "execution": {
     "iopub.execute_input": "2022-07-09T05:33:30.402562Z",
     "iopub.status.busy": "2022-07-09T05:33:30.402044Z",
     "iopub.status.idle": "2022-07-09T05:33:30.651129Z",
     "shell.execute_reply": "2022-07-09T05:33:30.650077Z"
    },
    "papermill": {
     "duration": 0.260033,
     "end_time": "2022-07-09T05:33:30.653701",
     "exception": false,
     "start_time": "2022-07-09T05:33:30.393668",
     "status": "completed"
    },
    "tags": []
   },
   "outputs": [
    {
     "data": {
      "text/plain": [
       "<AxesSubplot:>"
      ]
     },
     "execution_count": 18,
     "metadata": {},
     "output_type": "execute_result"
    },
    {
     "data": {
      "image/png": "[encoded data removed]",
      "text/plain": [
       "<Figure size 1080x576 with 1 Axes>"
      ]
     },
     "metadata": {
      "needs_background": "light"
     },
     "output_type": "display_data"
    }
   ],
   "source": [
    "df['US_Custom_Ports'].value_counts().head(10).plot(kind = 'bar', figsize = (15,8))"
   ]
  },
  {
   "cell_type": "code",
   "execution_count": 19,
   "id": "a9726e8b",
   "metadata": {
    "execution": {
     "iopub.execute_input": "2022-07-09T05:33:30.671660Z",
     "iopub.status.busy": "2022-07-09T05:33:30.671321Z",
     "iopub.status.idle": "2022-07-09T05:33:30.962221Z",
     "shell.execute_reply": "2022-07-09T05:33:30.961061Z"
    },
    "papermill": {
     "duration": 0.302796,
     "end_time": "2022-07-09T05:33:30.964918",
     "exception": false,
     "start_time": "2022-07-09T05:33:30.662122",
     "status": "completed"
    },
    "tags": []
   },
   "outputs": [
    {
     "name": "stderr",
     "output_type": "stream",
     "text": [
      "/opt/conda/lib/python3.7/site-packages/seaborn/_decorators.py:43: FutureWarning: Pass the following variables as keyword args: x, y. From version 0.12, the only valid positional argument will be `data`, and passing other arguments without an explicit keyword will result in an error or misinterpretation.\n",
      "  FutureWarning\n"
     ]
    },
    {
     "data": {
      "text/plain": [
       "<AxesSubplot:xlabel='Year', ylabel='Busy_Port'>"
      ]
     },
     "execution_count": 19,
     "metadata": {},
     "output_type": "execute_result"
    },
    {
     "data": {
      "image/png": "[encoded data removed]",
      "text/plain": [
       "<Figure size 1080x576 with 1 Axes>"
      ]
     },
     "metadata": {},
     "output_type": "display_data"
    }
   ],
   "source": [
    "sns.set_theme(style=\"darkgrid\")\n",
    "plt.figure(figsize = (15,8))\n",
    "sns.lineplot('Year', 'Busy_Port',data=df1)"
   ]
  },
  {
   "cell_type": "code",
   "execution_count": 20,
   "id": "4d2f7cf5",
   "metadata": {
    "execution": {
     "iopub.execute_input": "2022-07-09T05:33:30.985440Z",
     "iopub.status.busy": "2022-07-09T05:33:30.985042Z",
     "iopub.status.idle": "2022-07-09T05:33:31.238777Z",
     "shell.execute_reply": "2022-07-09T05:33:31.237956Z"
    },
    "papermill": {
     "duration": 0.266218,
     "end_time": "2022-07-09T05:33:31.240664",
     "exception": false,
     "start_time": "2022-07-09T05:33:30.974446",
     "status": "completed"
    },
    "tags": []
   },
   "outputs": [
    {
     "name": "stderr",
     "output_type": "stream",
     "text": [
      "/opt/conda/lib/python3.7/site-packages/seaborn/_decorators.py:43: FutureWarning: Pass the following variables as keyword args: x, y. From version 0.12, the only valid positional argument will be `data`, and passing other arguments without an explicit keyword will result in an error or misinterpretation.\n",
      "  FutureWarning\n"
     ]
    },
    {
     "data": {
      "text/plain": [
       "<AxesSubplot:xlabel='Year', ylabel='Vaccant_Port'>"
      ]
     },
     "execution_count": 20,
     "metadata": {},
     "output_type": "execute_result"
    },
    {
     "data": {
      "image/png": "[encoded data removed]",
      "text/plain": [
       "<Figure size 1080x576 with 1 Axes>"
      ]
     },
     "metadata": {},
     "output_type": "display_data"
    }
   ],
   "source": [
    "sns.set_theme(style=\"whitegrid\")\n",
    "plt.figure(figsize = (15,8))\n",
    "sns.lineplot('Year', 'Vaccant_Port',data=df1)\n",
    "\n",
    "#white, dark, whitegrid, darkgrid, ticks"
   ]
  },
  {
   "cell_type": "markdown",
   "id": "e23a0301",
   "metadata": {
    "papermill": {
     "duration": 0.009247,
     "end_time": "2022-07-09T05:33:31.260277",
     "exception": false,
     "start_time": "2022-07-09T05:33:31.251030",
     "status": "completed"
    },
    "tags": []
   },
   "source": [
    "**From the above analysis we can say that the Port of New Orleans has been a busy port from year 2000 to 2017.**\n",
    "\n",
    "*The reason being it is an important grain port for the country and the world. It also exports raw and processed agricultural products, chemicals, fabricated metals, textiles, tobacco, paperboard, and petroleum and petroleum products.*"
   ]
  },
  {
   "cell_type": "markdown",
   "id": "f403dcc9",
   "metadata": {
    "papermill": {
     "duration": 0.009318,
     "end_time": "2022-07-09T05:33:31.279095",
     "exception": false,
     "start_time": "2022-07-09T05:33:31.269777",
     "status": "completed"
    },
    "tags": []
   },
   "source": [
    "# 🙏Thank You :)\n",
    "\n",
    "## Please share your feedback and suggestions."
   ]
  }
 ],
 "metadata": {
  "kernelspec": {
   "display_name": "Python 3",
   "language": "python",
   "name": "python3"
  },
  "language_info": {
   "codemirror_mode": {
    "name": "ipython",
    "version": 3
   },
   "file_extension": ".py",
   "mimetype": "text/x-python",
   "name": "python",
   "nbconvert_exporter": "python",
   "pygments_lexer": "ipython3",
   "version": "3.7.12"
  },
  "papermill": {
   "default_parameters": {},
   "duration": 11.415722,
   "end_time": "2022-07-09T05:33:32.009564",
   "environment_variables": {},
   "exception": null,
   "input_path": "__notebook__.ipynb",
   "output_path": "__notebook__.ipynb",
   "parameters": {},
   "start_time": "2022-07-09T05:33:20.593842",
   "version": "2.3.4"
  }
 },
 "nbformat": 4,
 "nbformat_minor": 5
}
